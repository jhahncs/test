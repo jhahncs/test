{
  "nbformat": 4,
  "nbformat_minor": 0,
  "metadata": {
    "colab": {
      "name": "MNIST.ipynb",
      "provenance": [],
      "collapsed_sections": [
        "TJ6CW9H9ivu1",
        "vHN8MdDti_jC",
        "Znz7J_AWii_A"
      ]
    },
    "kernelspec": {
      "name": "python3",
      "display_name": "Python 3"
    }
  },
  "cells": [
    {
      "cell_type": "code",
      "metadata": {
        "id": "mJisozT8H0VL"
      },
      "source": [
        "import sys\n",
        "import gzip\n",
        "import shutil\n",
        "import os\n",
        "import os\n",
        "import struct\n",
        "import numpy as np\n",
        "import matplotlib.pyplot  as plt\n",
        "\n",
        "\n"
      ],
      "execution_count": null,
      "outputs": []
    },
    {
      "cell_type": "markdown",
      "metadata": {
        "id": "TJ6CW9H9ivu1"
      },
      "source": [
        "# MNIST 데이터 압축해제"
      ]
    },
    {
      "cell_type": "code",
      "metadata": {
        "id": "DG-g6_RMiuC9"
      },
      "source": [
        "if (sys.version_info > (3, 0)):\n",
        "    writemode = 'wb'\n",
        "else:\n",
        "    writemode = 'w'\n",
        "\n",
        "zipped_mnist = [f for f in os.listdir('/content') if f.endswith('ubyte.gz')]\n",
        "for z in zipped_mnist:\n",
        "    with gzip.GzipFile(z, mode='rb') as decompressed, open(z[:-3], writemode) as outfile:\n",
        "        outfile.write(decompressed.read())"
      ],
      "execution_count": null,
      "outputs": []
    },
    {
      "cell_type": "markdown",
      "metadata": {
        "id": "ICmMlHQNitgm"
      },
      "source": [
        "# MNIST 데이터 로드"
      ]
    },
    {
      "cell_type": "code",
      "metadata": {
        "id": "myRnxTqwQ3Vk"
      },
      "source": [
        "def load_mnist(path, kind='train'):\n",
        "  \"\"\"`path`에서 MNIST 데이터 불러오기\"\"\"\n",
        "  labels_path = os.path.join(path, '%s-labels-idx1-ubyte' % kind)\n",
        "  images_path = os.path.join(path, '%s-images-idx3-ubyte' % kind)\n",
        "      \n",
        "  with open(labels_path, 'rb') as lbpath:\n",
        "      magic, n = struct.unpack('>II', lbpath.read(8))\n",
        "      labels = np.fromfile(lbpath, dtype=np.uint8)\n",
        "\n",
        "  with open(images_path, 'rb') as imgpath:\n",
        "      magic, num, rows, cols = struct.unpack(\">IIII\", imgpath.read(16))\n",
        "      images = np.fromfile(imgpath, dtype=np.uint8).reshape(len(labels), 784)\n",
        "      images = ((images / 255.) - .5) * 2\n",
        "  return images, labels"
      ],
      "execution_count": null,
      "outputs": []
    },
    {
      "cell_type": "code",
      "metadata": {
        "colab": {
          "base_uri": "https://localhost:8080/"
        },
        "id": "h1og2PJDQ3Qb",
        "outputId": "302c6ef2-dea5-4dd3-d519-22d972dce3af"
      },
      "source": [
        "X_train, y_train = load_mnist('/content', kind='train')\n",
        "print('행: %d, 열: %d' % (X_train.shape[0], X_train.shape[1]))\n",
        "\n",
        "X_test, y_test = load_mnist('/content', kind='t10k')\n",
        "print('행: %d, 열: %d' % (X_test.shape[0], X_test.shape[1]))\n"
      ],
      "execution_count": null,
      "outputs": [
        {
          "output_type": "stream",
          "text": [
            "행: 60000, 열: 784\n",
            "행: 10000, 열: 784\n"
          ],
          "name": "stdout"
        }
      ]
    },
    {
      "cell_type": "code",
      "metadata": {
        "id": "vQEYZZrpiE-3"
      },
      "source": [
        "def print_image(sample_image):\n",
        "  for r in range(0,28):\n",
        "    for c in range(0,28):\n",
        "      w = round(sample_image[r,c],2)\n",
        "      print(\"%.2f,\"%(w),end=\"\")\n",
        "    print(\"\\n\")\n"
      ],
      "execution_count": null,
      "outputs": []
    },
    {
      "cell_type": "code",
      "metadata": {
        "id": "eFmvsqymcMGG",
        "colab": {
          "base_uri": "https://localhost:8080/"
        },
        "outputId": "0aec6118-a1bf-4297-87eb-e400803e0343"
      },
      "source": [
        "sample_image = X_train[13].reshape((28, 28))\n",
        "print(y_train[13])\n",
        "np.savetxt(fname=\"t.csv\", delimiter=\",\", X=sample_image)\n",
        "\n",
        "print_image(sample_image)"
      ],
      "execution_count": null,
      "outputs": [
        {
          "output_type": "stream",
          "text": [
            "6\n",
            "-1.00,-1.00,-1.00,-1.00,-1.00,-1.00,-1.00,-1.00,-1.00,-1.00,-1.00,-1.00,-1.00,-1.00,-1.00,-1.00,-1.00,-1.00,-1.00,-1.00,-1.00,-1.00,-1.00,-1.00,-1.00,-1.00,-1.00,-1.00,\n",
            "\n",
            "-1.00,-1.00,-1.00,-1.00,-1.00,-1.00,-1.00,-1.00,-1.00,-1.00,-1.00,-1.00,-1.00,-1.00,-1.00,-1.00,-1.00,-1.00,-1.00,-1.00,-1.00,-1.00,-1.00,-1.00,-1.00,-1.00,-1.00,-1.00,\n",
            "\n",
            "-1.00,-1.00,-1.00,-1.00,-1.00,-1.00,-1.00,-1.00,-1.00,-1.00,-1.00,-1.00,-1.00,-1.00,-1.00,-1.00,-0.70,0.74,0.76,-1.00,-1.00,-1.00,-1.00,-1.00,-1.00,-1.00,-1.00,-1.00,\n",
            "\n",
            "-1.00,-1.00,-1.00,-1.00,-1.00,-1.00,-1.00,-1.00,-1.00,-1.00,-1.00,-1.00,-1.00,-1.00,-1.00,0.15,0.84,0.98,0.38,-1.00,-1.00,-1.00,-1.00,-1.00,-1.00,-1.00,-1.00,-1.00,\n",
            "\n",
            "-1.00,-1.00,-1.00,-1.00,-1.00,-1.00,-1.00,-1.00,-1.00,-1.00,-1.00,-1.00,-1.00,-0.82,0.55,0.98,0.98,0.63,-0.85,-1.00,-1.00,-1.00,-1.00,-1.00,-1.00,-1.00,-1.00,-1.00,\n",
            "\n",
            "-1.00,-1.00,-1.00,-1.00,-1.00,-1.00,-1.00,-1.00,-1.00,-1.00,-1.00,-1.00,-0.70,0.40,0.98,0.98,-0.08,-0.49,-1.00,-1.00,-1.00,-1.00,-1.00,-1.00,-1.00,-1.00,-1.00,-1.00,\n",
            "\n",
            "-1.00,-1.00,-1.00,-1.00,-1.00,-1.00,-1.00,-1.00,-1.00,-1.00,-1.00,-1.00,-0.55,0.98,0.98,0.98,-0.30,-1.00,-1.00,-1.00,-1.00,-1.00,-1.00,-1.00,-1.00,-1.00,-1.00,-1.00,\n",
            "\n",
            "-1.00,-1.00,-1.00,-1.00,-1.00,-1.00,-1.00,-1.00,-1.00,-1.00,-1.00,-0.70,0.74,0.98,0.98,-0.38,-1.00,-1.00,-1.00,-1.00,-1.00,-1.00,-1.00,-1.00,-1.00,-1.00,-1.00,-1.00,\n",
            "\n",
            "-1.00,-1.00,-1.00,-1.00,-1.00,-1.00,-1.00,-1.00,-1.00,-1.00,-1.00,0.03,0.98,0.40,-0.79,-1.00,-1.00,-1.00,-1.00,-1.00,-1.00,-1.00,-1.00,-1.00,-1.00,-1.00,-1.00,-1.00,\n",
            "\n",
            "-1.00,-1.00,-1.00,-1.00,-1.00,-1.00,-1.00,-1.00,-1.00,-1.00,0.55,0.93,0.73,-0.71,-1.00,-1.00,-1.00,-1.00,-1.00,-1.00,-1.00,-1.00,-1.00,-1.00,-1.00,-1.00,-1.00,-1.00,\n",
            "\n",
            "-1.00,-1.00,-1.00,-1.00,-1.00,-1.00,-1.00,-1.00,-1.00,-0.38,0.98,0.98,0.06,-0.78,-1.00,-1.00,-1.00,-1.00,-1.00,-1.00,-1.00,-1.00,-1.00,-1.00,-1.00,-1.00,-1.00,-1.00,\n",
            "\n",
            "-1.00,-1.00,-1.00,-1.00,-1.00,-1.00,-1.00,-1.00,-0.87,0.10,0.98,0.98,-0.07,-1.00,-1.00,-1.00,-1.00,-0.13,0.10,0.10,-1.00,-1.00,-1.00,-1.00,-1.00,-1.00,-1.00,-1.00,\n",
            "\n",
            "-1.00,-1.00,-1.00,-1.00,-1.00,-1.00,-1.00,-1.00,-0.90,0.50,1.00,0.98,-0.56,-1.00,-1.00,-0.11,-0.11,0.74,0.98,0.98,1.00,-0.79,-1.00,-1.00,-1.00,-1.00,-1.00,-1.00,\n",
            "\n",
            "-1.00,-1.00,-1.00,-1.00,-1.00,-1.00,-1.00,-1.00,-0.40,0.98,0.98,0.75,-0.71,-1.00,-0.62,0.36,0.98,0.98,0.90,0.68,0.98,0.56,-0.76,-1.00,-1.00,-1.00,-1.00,-1.00,\n",
            "\n",
            "-1.00,-1.00,-1.00,-1.00,-1.00,-1.00,-1.00,-0.90,-0.15,0.98,0.79,0.02,-1.00,-0.70,0.29,0.98,0.83,0.29,-0.62,-0.51,0.98,0.68,-0.76,-1.00,-1.00,-1.00,-1.00,-1.00,\n",
            "\n",
            "-1.00,-1.00,-1.00,-1.00,-1.00,-1.00,-1.00,-0.43,0.98,0.98,-0.01,-1.00,-0.82,0.40,0.98,0.88,0.16,-0.95,-0.65,0.69,0.88,0.16,-1.00,-1.00,-1.00,-1.00,-1.00,-1.00,\n",
            "\n",
            "-1.00,-1.00,-1.00,-1.00,-1.00,-1.00,-1.00,-0.07,0.98,0.98,-1.00,-1.00,0.55,0.98,0.98,-0.51,-1.00,-0.55,0.98,0.98,0.10,-1.00,-1.00,-1.00,-1.00,-1.00,-1.00,-1.00,\n",
            "\n",
            "-1.00,-1.00,-1.00,-1.00,-1.00,-1.00,-1.00,0.06,0.98,0.36,-1.00,-0.62,0.80,0.98,-0.12,-1.00,-0.70,0.74,0.98,-0.12,-1.00,-1.00,-1.00,-1.00,-1.00,-1.00,-1.00,-1.00,\n",
            "\n",
            "-1.00,-1.00,-1.00,-1.00,-1.00,-1.00,-1.00,0.06,0.98,0.36,-1.00,-0.62,0.78,0.98,0.24,0.77,0.84,0.58,-0.79,-0.91,-1.00,-1.00,-1.00,-1.00,-1.00,-1.00,-1.00,-1.00,\n",
            "\n",
            "-1.00,-1.00,-1.00,-1.00,-1.00,-1.00,-1.00,-0.55,0.98,0.98,-0.55,-0.18,0.88,0.98,0.98,0.98,0.83,-0.42,-1.00,-1.00,-1.00,-1.00,-1.00,-1.00,-1.00,-1.00,-1.00,-1.00,\n",
            "\n",
            "-1.00,-1.00,-1.00,-1.00,-1.00,-1.00,-1.00,-0.60,0.90,0.98,0.98,0.98,0.98,0.98,0.98,0.88,0.16,-1.00,-1.00,-1.00,-1.00,-1.00,-1.00,-1.00,-1.00,-1.00,-1.00,-1.00,\n",
            "\n",
            "-1.00,-1.00,-1.00,-1.00,-1.00,-1.00,-1.00,-1.00,-0.41,0.48,0.98,0.98,0.98,0.23,-0.12,-0.51,-1.00,-1.00,-1.00,-1.00,-1.00,-1.00,-1.00,-1.00,-1.00,-1.00,-1.00,-1.00,\n",
            "\n",
            "-1.00,-1.00,-1.00,-1.00,-1.00,-1.00,-1.00,-1.00,-1.00,-1.00,-1.00,-1.00,-1.00,-1.00,-1.00,-1.00,-1.00,-1.00,-1.00,-1.00,-1.00,-1.00,-1.00,-1.00,-1.00,-1.00,-1.00,-1.00,\n",
            "\n",
            "-1.00,-1.00,-1.00,-1.00,-1.00,-1.00,-1.00,-1.00,-1.00,-1.00,-1.00,-1.00,-1.00,-1.00,-1.00,-1.00,-1.00,-1.00,-1.00,-1.00,-1.00,-1.00,-1.00,-1.00,-1.00,-1.00,-1.00,-1.00,\n",
            "\n",
            "-1.00,-1.00,-1.00,-1.00,-1.00,-1.00,-1.00,-1.00,-1.00,-1.00,-1.00,-1.00,-1.00,-1.00,-1.00,-1.00,-1.00,-1.00,-1.00,-1.00,-1.00,-1.00,-1.00,-1.00,-1.00,-1.00,-1.00,-1.00,\n",
            "\n",
            "-1.00,-1.00,-1.00,-1.00,-1.00,-1.00,-1.00,-1.00,-1.00,-1.00,-1.00,-1.00,-1.00,-1.00,-1.00,-1.00,-1.00,-1.00,-1.00,-1.00,-1.00,-1.00,-1.00,-1.00,-1.00,-1.00,-1.00,-1.00,\n",
            "\n",
            "-1.00,-1.00,-1.00,-1.00,-1.00,-1.00,-1.00,-1.00,-1.00,-1.00,-1.00,-1.00,-1.00,-1.00,-1.00,-1.00,-1.00,-1.00,-1.00,-1.00,-1.00,-1.00,-1.00,-1.00,-1.00,-1.00,-1.00,-1.00,\n",
            "\n",
            "-1.00,-1.00,-1.00,-1.00,-1.00,-1.00,-1.00,-1.00,-1.00,-1.00,-1.00,-1.00,-1.00,-1.00,-1.00,-1.00,-1.00,-1.00,-1.00,-1.00,-1.00,-1.00,-1.00,-1.00,-1.00,-1.00,-1.00,-1.00,\n",
            "\n"
          ],
          "name": "stdout"
        }
      ]
    },
    {
      "cell_type": "code",
      "metadata": {
        "id": "K6gPOn7YcMAA",
        "colab": {
          "base_uri": "https://localhost:8080/",
          "height": 297
        },
        "outputId": "703bd263-35fa-4781-d510-3b274fc44854"
      },
      "source": [
        "import matplotlib.pyplot as plt\n",
        "fig, ax = plt.subplots(nrows=5, ncols=5, sharex=True, sharey=True,)\n",
        "ax = ax.flatten()\n",
        "aa = (y_train == 6)\n",
        "#print([i for i, x in enumerate(aa) if x])\n",
        "for i in range(25):\n",
        "  img = X_train[aa][i].reshape(28, 28)\n",
        "  ax[i].imshow(img, cmap='Greys')\n",
        "\n",
        "ax[0].set_xticks([])\n",
        "ax[0].set_yticks([])\n",
        "plt.tight_layout()\n",
        "plt.show()\n"
      ],
      "execution_count": null,
      "outputs": [
        {
          "output_type": "display_data",
          "data": {
            "image/png": "[encoded data removed]",
            "text/plain": [
              "<Figure size 432x288 with 25 Axes>"
            ]
          },
          "metadata": {
            "tags": []
          }
        }
      ]
    },
    {
      "cell_type": "markdown",
      "metadata": {
        "id": "vHN8MdDti_jC"
      },
      "source": [
        "#인공신경망 학습 및 테스트"
      ]
    },
    {
      "cell_type": "code",
      "metadata": {
        "colab": {
          "base_uri": "https://localhost:8080/"
        },
        "id": "xy9PXI_tiUuJ",
        "outputId": "9ca1082c-d8cf-40af-cdef-f16f84887010"
      },
      "source": [
        "import tensorflow as tf\n",
        "np.random.seed(123)\n",
        "y_train_onehot = tf.keras.utils.to_categorical(y_train)\n",
        " \n",
        "print('처음 3개 레이블: ', y_train[:3])\n",
        "print('\\n처음 3개 레이블 (원-핫):\\n', y_train_onehot[:3])\n"
      ],
      "execution_count": null,
      "outputs": [
        {
          "output_type": "stream",
          "text": [
            "처음 3개 레이블:  [5 0 4]\n",
            "\n",
            "처음 3개 레이블 (원-핫):\n",
            " [[0. 0. 0. 0. 0. 1. 0. 0. 0. 0.]\n",
            " [1. 0. 0. 0. 0. 0. 0. 0. 0. 0.]\n",
            " [0. 0. 0. 0. 1. 0. 0. 0. 0. 0.]]\n"
          ],
          "name": "stdout"
        }
      ]
    },
    {
      "cell_type": "code",
      "metadata": {
        "colab": {
          "base_uri": "https://localhost:8080/"
        },
        "id": "nvmp_nbpidpW",
        "outputId": "e2b5d7e0-1035-4f39-83e2-7683df6eea19"
      },
      "source": [
        "model = tf.keras.models.Sequential()\n",
        "\n",
        "model.add(\n",
        "    tf.keras.layers.Dense(\n",
        "        units=50,    \n",
        "        input_dim=X_train.shape[1],\n",
        "        kernel_initializer='glorot_uniform',\n",
        "        bias_initializer='zeros',\n",
        "        activation='tanh'))\n",
        "\n",
        "model.add(\n",
        "    tf.keras.layers.Dense(\n",
        "        units=50,    \n",
        "        input_dim=50,\n",
        "        kernel_initializer='glorot_uniform',\n",
        "        bias_initializer='zeros',\n",
        "        activation='tanh'))\n",
        "\n",
        "model.add(\n",
        "    tf.keras.layers.Dense(\n",
        "        units=y_train_onehot.shape[1],    \n",
        "        input_dim=50,\n",
        "        kernel_initializer='glorot_uniform',\n",
        "        bias_initializer='zeros',\n",
        "        activation='softmax'))\n",
        "model.summary()\n"
      ],
      "execution_count": null,
      "outputs": [
        {
          "output_type": "stream",
          "text": [
            "Model: \"sequential\"\n",
            "_________________________________________________________________\n",
            "Layer (type)                 Output Shape              Param #   \n",
            "=================================================================\n",
            "dense (Dense)                (None, 50)                39250     \n",
            "_________________________________________________________________\n",
            "dense_1 (Dense)              (None, 50)                2550      \n",
            "_________________________________________________________________\n",
            "dense_2 (Dense)              (None, 10)                510       \n",
            "=================================================================\n",
            "Total params: 42,310\n",
            "Trainable params: 42,310\n",
            "Non-trainable params: 0\n",
            "_________________________________________________________________\n"
          ],
          "name": "stdout"
        }
      ]
    },
    {
      "cell_type": "code",
      "metadata": {
        "id": "HvdvSNU-jN45",
        "colab": {
          "base_uri": "https://localhost:8080/"
        },
        "outputId": "fb65edd6-f5fb-4b1e-dd7a-a332fef2ac9c"
      },
      "source": [
        "sgd_optimizer = tf.keras.optimizers.SGD(lr=0.001, decay=1e-7, momentum=.9)\n",
        "\n",
        "model.compile(optimizer=sgd_optimizer, loss='categorical_crossentropy')\n",
        "\n",
        "history = model.fit(X_train, y_train_onehot,\n",
        "                    batch_size=64, epochs=50,\n",
        "                    verbose=1,\n",
        "                    validation_split=0.1)\n"
      ],
      "execution_count": null,
      "outputs": [
        {
          "output_type": "stream",
          "text": [
            "/usr/local/lib/python3.7/dist-packages/tensorflow/python/keras/optimizer_v2/optimizer_v2.py:375: UserWarning: The `lr` argument is deprecated, use `learning_rate` instead.\n",
            "  \"The `lr` argument is deprecated, use `learning_rate` instead.\")\n"
          ],
          "name": "stderr"
        },
        {
          "output_type": "stream",
          "text": [
            "Epoch 1/50\n",
            "844/844 [==============================] - 3s 2ms/step - loss: 0.8442 - val_loss: 0.3908\n",
            "Epoch 2/50\n",
            "844/844 [==============================] - 2s 2ms/step - loss: 0.3877 - val_loss: 0.2837\n",
            "Epoch 3/50\n",
            "844/844 [==============================] - 2s 2ms/step - loss: 0.3169 - val_loss: 0.2449\n",
            "Epoch 4/50\n",
            "844/844 [==============================] - 2s 2ms/step - loss: 0.2809 - val_loss: 0.2255\n",
            "Epoch 5/50\n",
            "844/844 [==============================] - 2s 2ms/step - loss: 0.2564 - val_loss: 0.2124\n",
            "Epoch 6/50\n",
            "844/844 [==============================] - 2s 2ms/step - loss: 0.2374 - val_loss: 0.1941\n",
            "Epoch 7/50\n",
            "844/844 [==============================] - 2s 2ms/step - loss: 0.2215 - val_loss: 0.1830\n",
            "Epoch 8/50\n",
            "844/844 [==============================] - 2s 2ms/step - loss: 0.2081 - val_loss: 0.1739\n",
            "Epoch 9/50\n",
            "844/844 [==============================] - 2s 2ms/step - loss: 0.1957 - val_loss: 0.1650\n",
            "Epoch 10/50\n",
            "844/844 [==============================] - 2s 2ms/step - loss: 0.1856 - val_loss: 0.1620\n",
            "Epoch 11/50\n",
            "844/844 [==============================] - 2s 2ms/step - loss: 0.1755 - val_loss: 0.1530\n",
            "Epoch 12/50\n",
            "844/844 [==============================] - 2s 2ms/step - loss: 0.1666 - val_loss: 0.1498\n",
            "Epoch 13/50\n",
            "844/844 [==============================] - 2s 2ms/step - loss: 0.1596 - val_loss: 0.1406\n",
            "Epoch 14/50\n",
            "844/844 [==============================] - 2s 2ms/step - loss: 0.1525 - val_loss: 0.1361\n",
            "Epoch 15/50\n",
            "844/844 [==============================] - 2s 2ms/step - loss: 0.1454 - val_loss: 0.1320\n",
            "Epoch 16/50\n",
            "844/844 [==============================] - 2s 2ms/step - loss: 0.1397 - val_loss: 0.1294\n",
            "Epoch 17/50\n",
            "844/844 [==============================] - 2s 2ms/step - loss: 0.1345 - val_loss: 0.1271\n",
            "Epoch 18/50\n",
            "844/844 [==============================] - 2s 2ms/step - loss: 0.1290 - val_loss: 0.1240\n",
            "Epoch 19/50\n",
            "844/844 [==============================] - 2s 2ms/step - loss: 0.1243 - val_loss: 0.1228\n",
            "Epoch 20/50\n",
            "844/844 [==============================] - 2s 2ms/step - loss: 0.1194 - val_loss: 0.1202\n",
            "Epoch 21/50\n",
            "844/844 [==============================] - 2s 2ms/step - loss: 0.1154 - val_loss: 0.1178\n",
            "Epoch 22/50\n",
            "844/844 [==============================] - 2s 2ms/step - loss: 0.1119 - val_loss: 0.1148\n",
            "Epoch 23/50\n",
            "844/844 [==============================] - 2s 2ms/step - loss: 0.1080 - val_loss: 0.1123\n",
            "Epoch 24/50\n",
            "844/844 [==============================] - 2s 2ms/step - loss: 0.1045 - val_loss: 0.1118\n",
            "Epoch 25/50\n",
            "844/844 [==============================] - 2s 2ms/step - loss: 0.1011 - val_loss: 0.1106\n",
            "Epoch 26/50\n",
            "844/844 [==============================] - 2s 2ms/step - loss: 0.0981 - val_loss: 0.1071\n",
            "Epoch 27/50\n",
            "844/844 [==============================] - 2s 2ms/step - loss: 0.0955 - val_loss: 0.1061\n",
            "Epoch 28/50\n",
            "844/844 [==============================] - 2s 2ms/step - loss: 0.0925 - val_loss: 0.1050\n",
            "Epoch 29/50\n",
            "844/844 [==============================] - 2s 2ms/step - loss: 0.0904 - val_loss: 0.1052\n",
            "Epoch 30/50\n",
            "844/844 [==============================] - 2s 2ms/step - loss: 0.0878 - val_loss: 0.1048\n",
            "Epoch 31/50\n",
            "844/844 [==============================] - 2s 2ms/step - loss: 0.0854 - val_loss: 0.1028\n",
            "Epoch 32/50\n",
            "844/844 [==============================] - 2s 2ms/step - loss: 0.0831 - val_loss: 0.1036\n",
            "Epoch 33/50\n",
            "844/844 [==============================] - 2s 2ms/step - loss: 0.0814 - val_loss: 0.1023\n",
            "Epoch 34/50\n",
            "844/844 [==============================] - 2s 2ms/step - loss: 0.0789 - val_loss: 0.1079\n",
            "Epoch 35/50\n",
            "844/844 [==============================] - 2s 2ms/step - loss: 0.0774 - val_loss: 0.1003\n",
            "Epoch 36/50\n",
            "844/844 [==============================] - 2s 2ms/step - loss: 0.0754 - val_loss: 0.0983\n",
            "Epoch 37/50\n",
            "844/844 [==============================] - 2s 2ms/step - loss: 0.0728 - val_loss: 0.0996\n",
            "Epoch 38/50\n",
            "844/844 [==============================] - 2s 2ms/step - loss: 0.0716 - val_loss: 0.0953\n",
            "Epoch 39/50\n",
            "844/844 [==============================] - 2s 2ms/step - loss: 0.0697 - val_loss: 0.1001\n",
            "Epoch 40/50\n",
            "844/844 [==============================] - 2s 2ms/step - loss: 0.0685 - val_loss: 0.0972\n",
            "Epoch 41/50\n",
            "844/844 [==============================] - 2s 2ms/step - loss: 0.0664 - val_loss: 0.0942\n",
            "Epoch 42/50\n",
            "844/844 [==============================] - 2s 2ms/step - loss: 0.0655 - val_loss: 0.0947\n",
            "Epoch 43/50\n",
            "844/844 [==============================] - 2s 2ms/step - loss: 0.0641 - val_loss: 0.0964\n",
            "Epoch 44/50\n",
            "844/844 [==============================] - 2s 2ms/step - loss: 0.0627 - val_loss: 0.0965\n",
            "Epoch 45/50\n",
            "844/844 [==============================] - 2s 2ms/step - loss: 0.0605 - val_loss: 0.0925\n",
            "Epoch 46/50\n",
            "844/844 [==============================] - 2s 2ms/step - loss: 0.0599 - val_loss: 0.0932\n",
            "Epoch 47/50\n",
            "844/844 [==============================] - 2s 2ms/step - loss: 0.0586 - val_loss: 0.1002\n",
            "Epoch 48/50\n",
            "844/844 [==============================] - 2s 2ms/step - loss: 0.0571 - val_loss: 0.0952\n",
            "Epoch 49/50\n",
            "844/844 [==============================] - 2s 2ms/step - loss: 0.0564 - val_loss: 0.0931\n",
            "Epoch 50/50\n",
            "844/844 [==============================] - 2s 2ms/step - loss: 0.0550 - val_loss: 0.0915\n"
          ],
          "name": "stdout"
        }
      ]
    },
    {
      "cell_type": "code",
      "metadata": {
        "colab": {
          "base_uri": "https://localhost:8080/"
        },
        "id": "RjfyjCkoizv5",
        "outputId": "79b9b603-1168-4092-d267-e78440054fbf"
      },
      "source": [
        "predictions = model.predict_classes(X_test,  verbose=0)\n",
        "correct_preds = np.sum(y_test == predictions, axis=0) \n",
        "train_acc = correct_preds / y_test.shape[0]\n",
        "\n",
        "print('처음 3개 예측: ', predictions[:3])\n",
        "print('훈련 정확도: %.2f%%' % (train_acc * 100))\n"
      ],
      "execution_count": null,
      "outputs": [
        {
          "output_type": "stream",
          "text": [
            "/usr/local/lib/python3.7/dist-packages/tensorflow/python/keras/engine/sequential.py:455: UserWarning: `model.predict_classes()` is deprecated and will be removed after 2021-01-01. Please use instead:* `np.argmax(model.predict(x), axis=-1)`,   if your model does multi-class classification   (e.g. if it uses a `softmax` last-layer activation).* `(model.predict(x) > 0.5).astype(\"int32\")`,   if your model does binary classification   (e.g. if it uses a `sigmoid` last-layer activation).\n",
            "  warnings.warn('`model.predict_classes()` is deprecated and '\n"
          ],
          "name": "stderr"
        },
        {
          "output_type": "stream",
          "text": [
            "처음 3개 예측:  [7 2 1]\n",
            "훈련 정확도: 96.99%\n"
          ],
          "name": "stdout"
        }
      ]
    },
    {
      "cell_type": "code",
      "metadata": {
        "colab": {
          "base_uri": "https://localhost:8080/"
        },
        "id": "XgU-w65Ykl_W",
        "outputId": "9fac4be4-d46d-4515-9447-1186c1f553c9"
      },
      "source": [
        "print(X_train[13].reshape(-1,784).shape)\n",
        "predictions = model.predict(X_train[13].reshape(-1,784), verbose=0)\n",
        "np.savetxt(fname=\"13.csv\", delimiter=\",\", X=X_train[13].reshape(-1,784))\n",
        "\n",
        "print(predictions)\n",
        "np.argmax(predictions)\n"
      ],
      "execution_count": null,
      "outputs": [
        {
          "output_type": "stream",
          "text": [
            "(1, 784)\n",
            "[[5.5300414e-05 1.4435931e-06 3.8718994e-05 5.8197386e-08 2.2659819e-05\n",
            "  4.2543256e-06 9.9986112e-01 7.7074752e-08 1.3719504e-05 2.6464952e-06]]\n"
          ],
          "name": "stdout"
        },
        {
          "output_type": "execute_result",
          "data": {
            "text/plain": [
              "6"
            ]
          },
          "metadata": {
            "tags": []
          },
          "execution_count": 18
        }
      ]
    },
    {
      "cell_type": "markdown",
      "metadata": {
        "id": "Znz7J_AWii_A"
      },
      "source": [
        "# 실험 결과 시각화"
      ]
    },
    {
      "cell_type": "code",
      "metadata": {
        "id": "AXE6u5RLlFLc"
      },
      "source": [
        "def plot_image(i, predictions_array, true_label, img):\n",
        "  predictions_array, true_label, img = predictions_array[i], true_label[i], img[i]\n",
        "  plt.grid(False)\n",
        "  plt.xticks([])\n",
        "  plt.yticks([])\n",
        "\n",
        "  #plt.imshow(img, cmap=plt.cm.binary)\n",
        "  plt.imshow(img.reshape(28, 28), cmap='Greys')\n",
        "\n",
        "  predicted_label = np.argmax(predictions_array)\n",
        "  if predicted_label == true_label:\n",
        "    color = 'blue'\n",
        "  else:\n",
        "    color = 'red'\n",
        "\n",
        "  plt.xlabel(\"{} {:2.0f}% ({})\".format(predicted_label,\n",
        "                                100*np.max(predictions_array),\n",
        "                                true_label),\n",
        "                                color=color)\n"
      ],
      "execution_count": null,
      "outputs": []
    },
    {
      "cell_type": "code",
      "metadata": {
        "id": "nkF0FZnmlLN6"
      },
      "source": [
        "\n",
        "def plot_value_array(i, predictions_array, true_label):\n",
        "  predictions_array, true_label = predictions_array[i], true_label[i]\n",
        "  plt.grid(False)\n",
        "  plt.xticks([])\n",
        "  plt.yticks([])\n",
        "  thisplot = plt.bar(range(10), predictions_array, color=\"#777777\")\n",
        "  plt.ylim([0, 1])\n",
        "  predicted_label = np.argmax(predictions_array)\n",
        "\n",
        "  thisplot[predicted_label].set_color('red')\n",
        "  thisplot[true_label].set_color('blue')\n"
      ],
      "execution_count": null,
      "outputs": []
    },
    {
      "cell_type": "code",
      "metadata": {
        "colab": {
          "base_uri": "https://localhost:8080/",
          "height": 436
        },
        "id": "urH3ak6BlTV3",
        "outputId": "2796ed14-cca2-4cd8-bdbd-1dc084769e0c"
      },
      "source": [
        "\n",
        "i = 555\n",
        "plt.figure(figsize=(6,3))\n",
        "plt.subplot(1,2,1)\n",
        "plot_image(i, predictions, y_test, X_test)\n",
        "plt.subplot(1,2,2)\n",
        "plot_value_array(i, predictions,  y_test)\n",
        "plt.show()\n"
      ],
      "execution_count": null,
      "outputs": [
        {
          "output_type": "error",
          "ename": "NameError",
          "evalue": "ignored",
          "traceback": [
            "\u001b[0;31m---------------------------------------------------------------------------\u001b[0m",
            "\u001b[0;31mNameError\u001b[0m                                 Traceback (most recent call last)",
            "\u001b[0;32m<ipython-input-22-cfc304af147d>\u001b[0m in \u001b[0;36m<module>\u001b[0;34m()\u001b[0m\n\u001b[1;32m      3\u001b[0m \u001b[0mplt\u001b[0m\u001b[0;34m.\u001b[0m\u001b[0mfigure\u001b[0m\u001b[0;34m(\u001b[0m\u001b[0mfigsize\u001b[0m\u001b[0;34m=\u001b[0m\u001b[0;34m(\u001b[0m\u001b[0;36m6\u001b[0m\u001b[0;34m,\u001b[0m\u001b[0;36m3\u001b[0m\u001b[0;34m)\u001b[0m\u001b[0;34m)\u001b[0m\u001b[0;34m\u001b[0m\u001b[0;34m\u001b[0m\u001b[0m\n\u001b[1;32m      4\u001b[0m \u001b[0mplt\u001b[0m\u001b[0;34m.\u001b[0m\u001b[0msubplot\u001b[0m\u001b[0;34m(\u001b[0m\u001b[0;36m1\u001b[0m\u001b[0;34m,\u001b[0m\u001b[0;36m2\u001b[0m\u001b[0;34m,\u001b[0m\u001b[0;36m1\u001b[0m\u001b[0;34m)\u001b[0m\u001b[0;34m\u001b[0m\u001b[0;34m\u001b[0m\u001b[0m\n\u001b[0;32m----> 5\u001b[0;31m \u001b[0mplot_image\u001b[0m\u001b[0;34m(\u001b[0m\u001b[0mi\u001b[0m\u001b[0;34m,\u001b[0m \u001b[0mpredictions\u001b[0m\u001b[0;34m,\u001b[0m \u001b[0my_test\u001b[0m\u001b[0;34m,\u001b[0m \u001b[0mX_test\u001b[0m\u001b[0;34m)\u001b[0m\u001b[0;34m\u001b[0m\u001b[0;34m\u001b[0m\u001b[0m\n\u001b[0m\u001b[1;32m      6\u001b[0m \u001b[0mplt\u001b[0m\u001b[0;34m.\u001b[0m\u001b[0msubplot\u001b[0m\u001b[0;34m(\u001b[0m\u001b[0;36m1\u001b[0m\u001b[0;34m,\u001b[0m\u001b[0;36m2\u001b[0m\u001b[0;34m,\u001b[0m\u001b[0;36m2\u001b[0m\u001b[0;34m)\u001b[0m\u001b[0;34m\u001b[0m\u001b[0;34m\u001b[0m\u001b[0m\n\u001b[1;32m      7\u001b[0m \u001b[0mplot_value_array\u001b[0m\u001b[0;34m(\u001b[0m\u001b[0mi\u001b[0m\u001b[0;34m,\u001b[0m \u001b[0mpredictions\u001b[0m\u001b[0;34m,\u001b[0m  \u001b[0my_test\u001b[0m\u001b[0;34m)\u001b[0m\u001b[0;34m\u001b[0m\u001b[0;34m\u001b[0m\u001b[0m\n",
            "\u001b[0;31mNameError\u001b[0m: name 'plot_image' is not defined"
          ]
        },
        {
          "output_type": "display_data",
          "data": {
            "image/png": "[encoded data removed]",
            "text/plain": [
              "<Figure size 432x216 with 1 Axes>"
            ]
          },
          "metadata": {
            "tags": [],
            "needs_background": "light"
          }
        }
      ]
    },
    {
      "cell_type": "code",
      "metadata": {
        "id": "89Az92sLlLHa",
        "colab": {
          "base_uri": "https://localhost:8080/",
          "height": 589
        },
        "outputId": "5042e427-4760-41f7-ea0d-ddc31383bdba"
      },
      "source": [
        "num_rows = 5\n",
        "num_cols = 3\n",
        "num_images = num_rows*num_cols\n",
        "plt.figure(figsize=(2*2*num_cols, 2*num_rows))\n",
        "for i in range(num_images):\n",
        "  plt.subplot(num_rows, 2*num_cols, 2*i+1)\n",
        "  plot_image(i, predictions, y_test, X_test)\n",
        "  plt.subplot(num_rows, 2*num_cols, 2*i+2)\n",
        "  plot_value_array(i, predictions, y_test)\n",
        "plt.show()\n"
      ],
      "execution_count": null,
      "outputs": [
        {
          "output_type": "display_data",
          "data": {
            "image/png": "[encoded data removed]",
            "text/plain": [
              "<Figure size 864x720 with 30 Axes>"
            ]
          },
          "metadata": {
            "tags": []
          }
        }
      ]
    },
    {
      "cell_type": "code",
      "metadata": {
        "id": "nW_YDu0bpsKF"
      },
      "source": [
        "def plot_value_array2(i, predictions_array, true_label):\n",
        "  predictions_array, true_label = predictions_array[0], true_label[i]\n",
        "  plt.grid(False)\n",
        "  plt.xticks([])\n",
        "  plt.yticks([])\n",
        "  thisplot = plt.bar(range(10), predictions_array, color=\"#777777\")\n",
        "  plt.ylim([0, 1])\n",
        "  predicted_label = np.argmax(predictions_array)\n",
        "\n",
        "  thisplot[predicted_label].set_color('red')\n",
        "  thisplot[true_label].set_color('blue')\n"
      ],
      "execution_count": null,
      "outputs": []
    },
    {
      "cell_type": "code",
      "metadata": {
        "id": "Om16aIzApG1B"
      },
      "source": [
        "img_index = 2582\n",
        "\n",
        "img = X_test[img_index]\n",
        "plt.imshow(img.reshape(28, 28), cmap='Greys')\n",
        "plt.show()\n",
        "\n",
        "img = (np.expand_dims(img,0))\n",
        "predictions_single = model.predict(img)\n",
        "\n",
        "print(predictions_single)\n",
        "np.argmax(predictions_single)\n",
        "\n",
        "plot_value_array2(img_index, predictions_single, y_test)\n"
      ],
      "execution_count": null,
      "outputs": []
    },
    {
      "cell_type": "markdown",
      "metadata": {
        "id": "e_IJ8H7TicQp"
      },
      "source": [
        "# 그림판으로 만든 이미지 식별"
      ]
    },
    {
      "cell_type": "markdown",
      "metadata": {
        "id": "1xbER_j_0ZbJ"
      },
      "source": [
        "이미지 데이터를 화면에 보기좋게 출력하는 함수"
      ]
    },
    {
      "cell_type": "code",
      "metadata": {
        "id": "YKdWbF4GiaMi"
      },
      "source": [
        "def print_image(sample_image):\n",
        "  for r in range(0,28):\n",
        "    for c in range(0,28):\n",
        "      w = round(sample_image[r,c],2)\n",
        "      print(\"%.2f,\"%(w),end=\"\")\n",
        "    print(\"\\n\")\n"
      ],
      "execution_count": null,
      "outputs": []
    },
    {
      "cell_type": "markdown",
      "metadata": {
        "id": "wT7KA1jy0c4P"
      },
      "source": [
        "MNIST 이미지와 그림판 이미지의 히스토그램 비교"
      ]
    },
    {
      "cell_type": "code",
      "metadata": {
        "colab": {
          "base_uri": "https://localhost:8080/",
          "height": 607
        },
        "id": "s1fnTJkwQHAW",
        "outputId": "96d60064-552e-4a5b-daf9-15a9cd7d7374"
      },
      "source": [
        "import cv2\n",
        "\n",
        "plt.figure(figsize=(10,10))\n",
        "plt.subplot(221)\n",
        "plt.imshow(X_train[13].reshape(28,28), vmin=-1, vmax=1, cmap='Greys')\n",
        "plt.title(\"MNIST\")\n",
        "\n",
        "\n",
        "plt.subplot(222)\n",
        "plt.hist(X_train[13], bins=np.arange(-1, 1.1, 0.2))\n",
        "plt.title(\"MNIST\")\n",
        "\n",
        "\n",
        "plt.subplot(223)\n",
        "user_img = cv2.imread('/content/2.png', cv2.IMREAD_GRAYSCALE)\n",
        "user_img = cv2.resize(user_img,(28,28))\n",
        "user_img = ( (255 -   user_img)/255.0  - 0.5) *2\n",
        "plt.imshow(user_img, vmin= -1, vmax=1, cmap='Greys')\n",
        "plt.title(\"User Image\")\n",
        "\n",
        "\n",
        "plt.subplot(224)\n",
        "plt.hist(user_img.flatten(), bins=np.arange(-1, 1.1, 0.2))\n",
        "plt.title(\"User Image\")\n",
        "plt.show()\n",
        "\n",
        "#(thresh, gray) = cv2.threshold(gray, 200, 255, cv2.THRESH_BINARY | cv2.THRESH_OTSU)\n",
        "#gray = cv2.GaussianBlur(gray,(3,3),1)\n",
        "#(thresh, gray) = cv2.threshold(gray, 200, 255, cv2.THRESH_BINARY | cv2.THRESH_OTSU)\n",
        "#np.savetxt(fname=\"t1.csv\", delimiter=\",\", X=test_num)\n",
        "\n"
      ],
      "execution_count": null,
      "outputs": [
        {
          "output_type": "display_data",
          "data": {
            "image/png": "[encoded data removed]",
            "text/plain": [
              "<Figure size 720x720 with 4 Axes>"
            ]
          },
          "metadata": {
            "tags": [],
            "needs_background": "light"
          }
        }
      ]
    },
    {
      "cell_type": "markdown",
      "metadata": {
        "id": "z4GSYBIxQGuO"
      },
      "source": [
        ""
      ]
    },
    {
      "cell_type": "code",
      "metadata": {
        "colab": {
          "base_uri": "https://localhost:8080/"
        },
        "id": "uiSY6jSyKrWo",
        "outputId": "266f8ad4-c828-4f74-eeca-ddc954ddb66f"
      },
      "source": [
        "test_num = X_train[13].reshape(-1,784)\n",
        "print(test_num.shape)\n",
        "predictions = model.predict(test_num)\n",
        "print(predictions)\n",
        "print(np.argmax(predictions))\n",
        "\n",
        "\n",
        "test_num = user_img.reshape(-1,784)\n",
        "print(test_num.shape)\n",
        "predictions = model.predict(test_num)\n",
        "print(predictions)\n",
        "print(np.argmax(predictions))"
      ],
      "execution_count": null,
      "outputs": [
        {
          "output_type": "stream",
          "text": [
            "(1, 784)\n",
            "[[5.5300414e-05 1.4435931e-06 3.8718994e-05 5.8197386e-08 2.2659819e-05\n",
            "  4.2543256e-06 9.9986112e-01 7.7074752e-08 1.3719504e-05 2.6464952e-06]]\n",
            "6\n",
            "(1, 784)\n",
            "[[6.2699161e-02 1.3883541e-04 2.3010150e-05 7.8814465e-04 1.5996312e-03\n",
            "  7.7038532e-01 1.6089700e-01 1.8944464e-03 9.7979978e-04 5.9465307e-04]]\n",
            "5\n"
          ],
          "name": "stdout"
        }
      ]
    },
    {
      "cell_type": "markdown",
      "metadata": {
        "id": "nWHZHNOo1vlE"
      },
      "source": [
        "# CNN 기반 인공신경망 모델 학습"
      ]
    },
    {
      "cell_type": "code",
      "metadata": {
        "colab": {
          "base_uri": "https://localhost:8080/"
        },
        "id": "AjuU-eyjj0Dt",
        "outputId": "bf6c2a5f-c712-4d2e-f3ff-088405b5a3e6"
      },
      "source": [
        "X_train_cnn = X_train.reshape(-1,28,28,1)\n",
        "X_test_cnn = X_test.reshape(-1,28,28,1)\n",
        "\n",
        "\n",
        "model_cnn = tf.keras.models.Sequential()\n",
        "model_cnn.add(tf.keras.layers.Conv2D(32, (3, 3), activation='relu', input_shape=(28,28,1)))\n",
        "model_cnn.add(tf.keras.layers.MaxPooling2D((2, 2)))\n",
        "model_cnn.add(tf.keras.layers.Conv2D(64, (3, 3), activation='relu'))\n",
        "model_cnn.add(tf.keras.layers.MaxPooling2D((2, 2)))\n",
        "model_cnn.add(tf.keras.layers.Conv2D(64, (3, 3), activation='relu'))\n",
        "model_cnn.add(tf.keras.layers.Flatten())\n",
        "model_cnn.add(tf.keras.layers.Dense(64, activation='relu'))\n",
        "model_cnn.add(tf.keras.layers.Dense(10, activation='softmax'))\n",
        "model_cnn.summary()\n",
        "\n",
        "\n",
        "sgd_optimizer = tf.keras.optimizers.SGD(lr=0.001, decay=1e-7, momentum=.9)\n",
        "\n",
        "model_cnn.compile(optimizer=sgd_optimizer, loss='categorical_crossentropy')\n",
        "\n",
        "history = model_cnn.fit(X_train_cnn, y_train_onehot,\n",
        "                    batch_size=64, epochs=50,\n",
        "                    verbose=1,\n",
        "                    validation_split=0.1)\n",
        "predictions = model_cnn.predict_classes(X_test_cnn,  verbose=0)\n",
        "correct_preds = np.sum(y_test == predictions, axis=0) \n",
        "train_acc = correct_preds / y_test.shape[0]\n",
        "\n",
        "print('처음 3개 예측: ', predictions[:3])\n",
        "print('훈련 정확도: %.2f%%' % (train_acc * 100))\n"
      ],
      "execution_count": null,
      "outputs": [
        {
          "output_type": "stream",
          "text": [
            "Model: \"sequential_15\"\n",
            "_________________________________________________________________\n",
            "Layer (type)                 Output Shape              Param #   \n",
            "=================================================================\n",
            "conv2d_24 (Conv2D)           (None, 26, 26, 32)        320       \n",
            "_________________________________________________________________\n",
            "max_pooling2d_13 (MaxPooling (None, 13, 13, 32)        0         \n",
            "_________________________________________________________________\n",
            "conv2d_25 (Conv2D)           (None, 11, 11, 64)        18496     \n",
            "_________________________________________________________________\n",
            "max_pooling2d_14 (MaxPooling (None, 5, 5, 64)          0         \n",
            "_________________________________________________________________\n",
            "conv2d_26 (Conv2D)           (None, 3, 3, 64)          36928     \n",
            "_________________________________________________________________\n",
            "flatten_6 (Flatten)          (None, 576)               0         \n",
            "_________________________________________________________________\n",
            "dense_21 (Dense)             (None, 64)                36928     \n",
            "_________________________________________________________________\n",
            "dense_22 (Dense)             (None, 10)                650       \n",
            "=================================================================\n",
            "Total params: 93,322\n",
            "Trainable params: 93,322\n",
            "Non-trainable params: 0\n",
            "_________________________________________________________________\n",
            "Epoch 1/50\n"
          ],
          "name": "stdout"
        },
        {
          "output_type": "stream",
          "text": [
            "/usr/local/lib/python3.7/dist-packages/tensorflow/python/keras/optimizer_v2/optimizer_v2.py:375: UserWarning: The `lr` argument is deprecated, use `learning_rate` instead.\n",
            "  \"The `lr` argument is deprecated, use `learning_rate` instead.\")\n"
          ],
          "name": "stderr"
        },
        {
          "output_type": "stream",
          "text": [
            "844/844 [==============================] - 49s 57ms/step - loss: 0.8150 - val_loss: 0.1881\n",
            "Epoch 2/50\n",
            "844/844 [==============================] - 48s 57ms/step - loss: 0.1730 - val_loss: 0.1098\n",
            "Epoch 3/50\n",
            "844/844 [==============================] - 48s 57ms/step - loss: 0.1145 - val_loss: 0.0834\n",
            "Epoch 4/50\n",
            "844/844 [==============================] - 48s 57ms/step - loss: 0.0906 - val_loss: 0.0749\n",
            "Epoch 5/50\n",
            "844/844 [==============================] - 48s 57ms/step - loss: 0.0765 - val_loss: 0.0638\n",
            "Epoch 6/50\n",
            "844/844 [==============================] - 48s 57ms/step - loss: 0.0669 - val_loss: 0.0582\n",
            "Epoch 7/50\n",
            "844/844 [==============================] - 48s 57ms/step - loss: 0.0597 - val_loss: 0.0537\n",
            "Epoch 8/50\n",
            "844/844 [==============================] - 47s 56ms/step - loss: 0.0553 - val_loss: 0.0522\n",
            "Epoch 9/50\n",
            "844/844 [==============================] - 48s 57ms/step - loss: 0.0500 - val_loss: 0.0491\n",
            "Epoch 10/50\n",
            "844/844 [==============================] - 48s 57ms/step - loss: 0.0465 - val_loss: 0.0492\n",
            "Epoch 11/50\n",
            "844/844 [==============================] - 48s 57ms/step - loss: 0.0440 - val_loss: 0.0479\n",
            "Epoch 12/50\n",
            "844/844 [==============================] - 48s 56ms/step - loss: 0.0404 - val_loss: 0.0415\n",
            "Epoch 13/50\n",
            "844/844 [==============================] - 48s 57ms/step - loss: 0.0379 - val_loss: 0.0411\n",
            "Epoch 14/50\n",
            "844/844 [==============================] - 48s 57ms/step - loss: 0.0360 - val_loss: 0.0397\n",
            "Epoch 15/50\n",
            "844/844 [==============================] - 48s 57ms/step - loss: 0.0347 - val_loss: 0.0444\n",
            "Epoch 16/50\n",
            "844/844 [==============================] - 48s 56ms/step - loss: 0.0319 - val_loss: 0.0426\n",
            "Epoch 17/50\n",
            "844/844 [==============================] - 48s 57ms/step - loss: 0.0300 - val_loss: 0.0409\n",
            "Epoch 18/50\n",
            "844/844 [==============================] - 48s 57ms/step - loss: 0.0289 - val_loss: 0.0407\n",
            "Epoch 19/50\n",
            "844/844 [==============================] - 48s 57ms/step - loss: 0.0274 - val_loss: 0.0381\n",
            "Epoch 20/50\n",
            "844/844 [==============================] - 48s 57ms/step - loss: 0.0261 - val_loss: 0.0424\n",
            "Epoch 21/50\n",
            "844/844 [==============================] - 48s 57ms/step - loss: 0.0246 - val_loss: 0.0409\n",
            "Epoch 22/50\n",
            "844/844 [==============================] - 48s 57ms/step - loss: 0.0235 - val_loss: 0.0385\n",
            "Epoch 23/50\n",
            "844/844 [==============================] - 48s 57ms/step - loss: 0.0222 - val_loss: 0.0380\n",
            "Epoch 24/50\n",
            "844/844 [==============================] - 48s 57ms/step - loss: 0.0208 - val_loss: 0.0366\n",
            "Epoch 25/50\n",
            "844/844 [==============================] - 48s 57ms/step - loss: 0.0200 - val_loss: 0.0375\n",
            "Epoch 26/50\n",
            "844/844 [==============================] - 48s 57ms/step - loss: 0.0186 - val_loss: 0.0388\n",
            "Epoch 27/50\n",
            "844/844 [==============================] - 48s 57ms/step - loss: 0.0181 - val_loss: 0.0373\n",
            "Epoch 28/50\n",
            "844/844 [==============================] - 48s 57ms/step - loss: 0.0171 - val_loss: 0.0358\n",
            "Epoch 29/50\n",
            "844/844 [==============================] - 48s 57ms/step - loss: 0.0165 - val_loss: 0.0371\n",
            "Epoch 30/50\n",
            "844/844 [==============================] - 48s 57ms/step - loss: 0.0155 - val_loss: 0.0374\n",
            "Epoch 31/50\n",
            "844/844 [==============================] - 48s 57ms/step - loss: 0.0147 - val_loss: 0.0371\n",
            "Epoch 32/50\n",
            "844/844 [==============================] - 48s 56ms/step - loss: 0.0141 - val_loss: 0.0396\n",
            "Epoch 33/50\n",
            "844/844 [==============================] - 48s 56ms/step - loss: 0.0135 - val_loss: 0.0389\n",
            "Epoch 34/50\n",
            "844/844 [==============================] - 48s 57ms/step - loss: 0.0129 - val_loss: 0.0384\n",
            "Epoch 35/50\n",
            "844/844 [==============================] - 48s 57ms/step - loss: 0.0120 - val_loss: 0.0354\n",
            "Epoch 36/50\n",
            "844/844 [==============================] - 48s 56ms/step - loss: 0.0116 - val_loss: 0.0375\n",
            "Epoch 37/50\n",
            "844/844 [==============================] - 48s 57ms/step - loss: 0.0112 - val_loss: 0.0353\n",
            "Epoch 38/50\n",
            "844/844 [==============================] - 48s 56ms/step - loss: 0.0104 - val_loss: 0.0377\n",
            "Epoch 39/50\n",
            "844/844 [==============================] - 48s 57ms/step - loss: 0.0101 - val_loss: 0.0362\n",
            "Epoch 40/50\n",
            "844/844 [==============================] - 48s 57ms/step - loss: 0.0092 - val_loss: 0.0412\n",
            "Epoch 41/50\n",
            "844/844 [==============================] - 48s 57ms/step - loss: 0.0093 - val_loss: 0.0377\n",
            "Epoch 42/50\n",
            "844/844 [==============================] - 48s 57ms/step - loss: 0.0083 - val_loss: 0.0396\n",
            "Epoch 43/50\n",
            "844/844 [==============================] - 48s 57ms/step - loss: 0.0081 - val_loss: 0.0371\n",
            "Epoch 44/50\n",
            "844/844 [==============================] - 48s 57ms/step - loss: 0.0079 - val_loss: 0.0372\n",
            "Epoch 45/50\n",
            "844/844 [==============================] - 48s 57ms/step - loss: 0.0076 - val_loss: 0.0379\n",
            "Epoch 46/50\n",
            "844/844 [==============================] - 48s 57ms/step - loss: 0.0070 - val_loss: 0.0366\n",
            "Epoch 47/50\n",
            "844/844 [==============================] - 48s 57ms/step - loss: 0.0064 - val_loss: 0.0389\n",
            "Epoch 48/50\n",
            "844/844 [==============================] - 48s 57ms/step - loss: 0.0063 - val_loss: 0.0422\n",
            "Epoch 49/50\n",
            "844/844 [==============================] - 48s 57ms/step - loss: 0.0060 - val_loss: 0.0398\n",
            "Epoch 50/50\n",
            "844/844 [==============================] - 48s 57ms/step - loss: 0.0057 - val_loss: 0.0381\n"
          ],
          "name": "stdout"
        },
        {
          "output_type": "stream",
          "text": [
            "/usr/local/lib/python3.7/dist-packages/tensorflow/python/keras/engine/sequential.py:455: UserWarning: `model.predict_classes()` is deprecated and will be removed after 2021-01-01. Please use instead:* `np.argmax(model.predict(x), axis=-1)`,   if your model does multi-class classification   (e.g. if it uses a `softmax` last-layer activation).* `(model.predict(x) > 0.5).astype(\"int32\")`,   if your model does binary classification   (e.g. if it uses a `sigmoid` last-layer activation).\n",
            "  warnings.warn('`model.predict_classes()` is deprecated and '\n"
          ],
          "name": "stderr"
        },
        {
          "output_type": "stream",
          "text": [
            "처음 3개 예측:  [7 2 1]\n",
            "훈련 정확도: 99.01%\n"
          ],
          "name": "stdout"
        }
      ]
    },
    {
      "cell_type": "code",
      "metadata": {
        "id": "2UUIZ4I7Al1j"
      },
      "source": [
        "model_cnn.save(\"mnist_cnn.h5\")"
      ],
      "execution_count": null,
      "outputs": []
    },
    {
      "cell_type": "code",
      "metadata": {
        "id": "6TWMCUFeA7ft"
      },
      "source": [
        "model_cnn = tf.keras.models.load_model(\"mnist_cnn.h5\")"
      ],
      "execution_count": null,
      "outputs": []
    },
    {
      "cell_type": "markdown",
      "metadata": {
        "id": "8d19_Ba8AlrT"
      },
      "source": [
        ""
      ]
    },
    {
      "cell_type": "code",
      "metadata": {
        "colab": {
          "base_uri": "https://localhost:8080/"
        },
        "id": "Vmv95zL7kT81",
        "outputId": "47329174-e245-450d-bf76-f557bbe517af"
      },
      "source": [
        "test_num = X_train[13].reshape(-1,28,28,1)\n",
        "print(test_num.shape)\n",
        "predictions = model_cnn.predict(test_num)\n",
        "print(predictions)\n",
        "print(np.argmax(predictions))\n",
        "\n",
        "\n",
        "test_num = user_img.reshape(-1,28,28,1)\n",
        "print(test_num.shape)\n",
        "predictions = model_cnn.predict(test_num)\n",
        "print(predictions)\n",
        "print(np.argmax(predictions))\n",
        "\n"
      ],
      "execution_count": null,
      "outputs": [
        {
          "output_type": "stream",
          "text": [
            "(1, 28, 28, 1)\n",
            "[[2.7578467e-11 1.9503898e-16 9.4467094e-15 2.0117946e-13 1.0698840e-12\n",
            "  8.9273441e-12 1.0000000e+00 1.9933218e-18 9.9278177e-09 7.8410738e-15]]\n",
            "6\n",
            "(1, 28, 28, 1)\n",
            "[[2.7578467e-11 1.9503898e-16 9.4467094e-15 2.0117946e-13 1.0698840e-12\n",
            "  8.9273441e-12 1.0000000e+00 1.9933218e-18 9.9278177e-09 7.8410738e-15]]\n",
            "6\n"
          ],
          "name": "stdout"
        }
      ]
    }
  ]
}