{
  "nbformat": 4,
  "nbformat_minor": 0,
  "metadata": {
    "colab": {
      "name": "웹크롤링_javascript_배포.ipynb",
      "provenance": [],
      "collapsed_sections": []
    },
    "kernelspec": {
      "name": "python3",
      "display_name": "Python 3"
    },
    "language_info": {
      "name": "python"
    }
  },
  "cells": [
    {
      "cell_type": "code",
      "metadata": {
        "id": "DH01IXFWY0Qy"
      },
      "source": [
        "!pip install selenium\n",
        "!apt-get update # to update ubuntu to correctly run apt install\n",
        "!apt install chromium-chromedriver\n",
        "!cp /usr/lib/chromium-browser/chromedriver /usr/bin\n",
        "import sys\n",
        "sys.path.insert(0,'/usr/lib/chromium-browser/chromedriver')\n",
        "from selenium import webdriver\n"
      ],
      "execution_count": null,
      "outputs": []
    },
    {
      "cell_type": "code",
      "source": [
        "import datetime\n",
        "\n",
        "def change_date(date_ori):\n",
        "    date_me = date_ori\n",
        "    if date_ori.endswith(\"시간 전\") or date_ori.endswith(\"분 전\"):\n",
        "      date_me = datetime.date.today().strftime(\"%Y-%m-%d\")\n",
        "    elif date_ori.endswith(\"일 전\"):\n",
        "      day = int(date_ori[ :-3])\n",
        "           \n",
        "      today = datetime.date.today()\n",
        "      diff = datetime.timedelta(days=day)\n",
        "      diff_days = today - diff\n",
        "      date_me = diff_days.strftime(\"%Y-%m-%d\")\n",
        "    elif date_ori == \"어제\":\n",
        "      today = datetime.date.today()\n",
        "      diff = datetime.timedelta(days=1)\n",
        "      diff_days = today - diff\n",
        "      date_me = diff_days.strftime(\"%Y-%m-%d\")\n",
        "      \n",
        "    else:\n",
        "      date_me = date_me.replace(\".\",\"-\")\n",
        "    return date_me\n",
        "\n",
        "\n",
        "date_me_2 = change_date(\"2021.11.23.\")\n",
        "\n",
        "\n",
        "print(date_me_2)"
      ],
      "metadata": {
        "colab": {
          "base_uri": "https://localhost:8080/"
        },
        "id": "iaWSZZ2iHXud",
        "outputId": "d801bedb-b49b-4765-84ad-e691d5fac76e"
      },
      "execution_count": null,
      "outputs": [
        {
          "output_type": "stream",
          "name": "stdout",
          "text": [
            "2021-11-23-\n"
          ]
        }
      ]
    },
    {
      "cell_type": "code",
      "metadata": {
        "id": "RLTQTyJ1Y9BR",
        "colab": {
          "base_uri": "https://localhost:8080/"
        },
        "outputId": "19638187-a535-4d70-864c-a3ed6dd762bb"
      },
      "source": [
        "from selenium import webdriver\n",
        "from selenium.webdriver.common.keys import Keys\n",
        "from selenium.webdriver.common.by import By\n",
        "# WebDriverWait는 Selenium 2.4.0 이후 부터 사용 가능합니다.\n",
        "from selenium.webdriver.support.ui import WebDriverWait\n",
        "# expected_conditions는 Selenium 2.26.0 이후 부터 사용 가능합니다.\n",
        "from selenium.webdriver.support import expected_conditions as EC\n",
        "import time\n",
        "import datetime\n",
        "from selenium.common.exceptions import TimeoutException\n",
        "import csv\n",
        "from bs4 import BeautifulSoup\n",
        "from urllib import parse\n",
        "import datetime\n",
        "\n",
        "chrome_options = webdriver.ChromeOptions()\n",
        "chrome_options.add_argument('--headless')\n",
        "chrome_options.add_argument('--no-sandbox')\n",
        "chrome_options.add_argument('--disable-dev-shm-usage')\n",
        "wd = webdriver.Chrome('chromedriver',chrome_options=chrome_options)\n",
        "\n",
        "\n",
        "keyword = \"제주도\"\n",
        "\n",
        "url = 'https://search.naver.com/search.naver'\n",
        "queryParams = '?' + parse.urlencode({ 'query' : keyword, 'where' : 'blog', 'sm' : 'tab_opt'})\n",
        "request_url = url + queryParams \n",
        "\n",
        "print(request_url)\n",
        "\n",
        "wd.implicitly_wait(3)\n",
        "\n",
        "wd.get(request_url)\n",
        "\n",
        "\n",
        "blog_id_set = set()\n",
        "blog_list = []\n",
        "\n",
        "body = wd.find_element(By.TAG_NAME,\"body\")\n",
        "last_blog_id = 30\n",
        "\n",
        "for scroll_index in range(1):\n",
        "\n",
        "  WebDriverWait(wd, 5).until(EC.presence_of_element_located((By.ID, 'sp_blog_'+str(last_blog_id))))\n",
        "  elements = wd.find_element(By.CLASS_NAME,\"lst_total\")\n",
        "  dateset = elements.find_elements(By.CLASS_NAME,'bx')\n",
        "\n",
        "\n",
        "\n",
        "  for li in dateset:\n",
        "    id = li.get_attribute('id')\n",
        "    date_ori = li.find_element(By.CLASS_NAME, \"sub_time\").text\n",
        "    last_blog_id = int(id.replace(\"sp_blog_\",\"\"))\n",
        "    title = li.find_element(By.CLASS_NAME, \"total_tit\").text\n",
        "    desc = li.find_element(By.CLASS_NAME, \"dsc_txt\").text\n",
        "    \n",
        "    date_me = change_date(date_ori)\n",
        "\n",
        "    print(id, date_ori, date_me)\n",
        "\n",
        "    row = []\n",
        "    row.append(id)\n",
        "    row.append(date_ori)\n",
        "    row.append(date_me)\n",
        "    row.append(title)\n",
        "    row.append(desc)\n",
        "\n",
        "    if id not in blog_id_set:\n",
        "      blog_id_set.add(id)\n",
        "      blog_list.append(row)\n",
        "\n",
        "\n",
        "  last_blog_id += 30\n",
        "\n",
        "  body.send_keys(Keys.END)\n",
        "\n",
        "\n",
        "wd.quit()\n",
        "\n",
        "print(blog_list)\n",
        "\n",
        "f = open('result.csv', 'w', newline='', encoding='utf-8-sig')\n",
        "csv_file = csv.writer(f, delimiter=',')\n",
        "csv_file.writerow(['id','date_ori','date','title','desc'])\n",
        "\n",
        "for w in blog_list:\n",
        "  csv_file.writerow(w)\n",
        "\n",
        "f.close()\n",
        "\n",
        "\n",
        "\n"
      ],
      "execution_count": null,
      "outputs": [
        {
          "output_type": "stream",
          "name": "stderr",
          "text": [
            "/usr/local/lib/python3.7/dist-packages/ipykernel_launcher.py:20: DeprecationWarning: use options instead of chrome_options\n"
          ]
        },
        {
          "output_type": "stream",
          "name": "stdout",
          "text": [
            "https://search.naver.com/search.naver?query=%EC%A0%9C%EC%A3%BC%EB%8F%84&where=blog&sm=tab_opt\n",
            "sp_blog_1 어제 2021-12-09\n",
            "sp_blog_2 2021.11.23. 2021-11-23-\n",
            "sp_blog_3 2시간 전 2021-12-10\n",
            "sp_blog_4 2일 전 2021-12-08\n",
            "sp_blog_5 2021.11.20. 2021-11-20-\n",
            "sp_blog_6 2021.09.30. 2021-09-30-\n",
            "sp_blog_7 2021.11.17. 2021-11-17-\n",
            "sp_blog_8 3일 전 2021-12-07\n",
            "sp_blog_9 2021.11.29. 2021-11-29-\n",
            "sp_blog_10 2021.10.10. 2021-10-10-\n",
            "sp_blog_11 2일 전 2021-12-08\n",
            "sp_blog_12 5일 전 2021-12-05\n",
            "sp_blog_13 11시간 전 2021-12-10\n",
            "sp_blog_14 2021.11.30. 2021-11-30-\n",
            "sp_blog_15 3일 전 2021-12-07\n",
            "sp_blog_16 2021.10.26. 2021-10-26-\n",
            "sp_blog_17 2021.11.17. 2021-11-17-\n",
            "sp_blog_18 4일 전 2021-12-06\n",
            "sp_blog_19 2021.11.12. 2021-11-12-\n",
            "sp_blog_20 2021.10.17. 2021-10-17-\n",
            "sp_blog_21 18시간 전 2021-12-10\n",
            "sp_blog_22 6일 전 2021-12-04\n",
            "sp_blog_23 2021.11.10. 2021-11-10-\n",
            "sp_blog_24 2021.12.02. 2021-12-02-\n",
            "sp_blog_25 2021.10.25. 2021-10-25-\n",
            "sp_blog_26 7일 전 2021-12-03\n",
            "sp_blog_27 2021.11.11. 2021-11-11-\n",
            "sp_blog_28 5일 전 2021-12-05\n",
            "sp_blog_29 2021.11.25. 2021-11-25-\n",
            "sp_blog_30 7일 전 2021-12-03\n",
            "[['sp_blog_1', '어제', '2021-12-09', '제주도 관광지 서귀포 자연휴양림, 제주도 아이랑 가볼만한곳', '바다도 봤으니 이번엔 숲을 볼 차례 ^^ 제주도 관광지 서귀포 자연휴양림 제주도 아이랑 가볼만한곳 나무데크 산책로가 잘 되어있고 중간중간 쉴만한 장소들도 있어서...'], ['sp_blog_2', '2021.11.23.', '2021-11-23-', '임팩트한 제주도 맛집 공유', '지난주말 가족여행으로 제주도에 들렸다가 지인이 알려주었던 제주도 맛집을 다녀왔어요. 아늑한 분위기에서 손맛 출중한 향토음식으로 착한가격에 배부르게...'], ['sp_blog_3', '2시간 전', '2021-12-10', '편안했던 제주도 펜션 추천', '편안했던 제주도 펜션 추천 글, 사진 : 그루터기 제주도에 온 지 벌써 일주일이 지났다. 한 달 살기 집을 구해 놓고 왔는데 첫날에는 조천의 조용한 마을 안에 있는...'], ['sp_blog_4', '2일 전', '2021-12-08', '제주 감귤체험 도련감귤나무숲에서 즐긴 제주도 귤따기체험', '언제나 여행 시작하는 날 제주도 귤따기체험 마치고 자동차 안에 가득 넣어두면... 동선에 제주도 감귤체험 할수 있는 곳을 찾아 이 곳으로 왔는데 서귀포쪽이 아닌 시내...'], ['sp_blog_5', '2021.11.20.', '2021-11-20-', '제주도 택시투어 제주 택시관광했죠~', '제주도 택시투어 제주 택시관광했죠~ 글&사진: 초록바다 최양훈 지난번 급하게 제주도 출장을 다녀왔는데 겁이 워낙 많아 초보운전 딱지를 4년째 달고 있다. 그렇다...'], ['sp_blog_6', '2021.09.30.', '2021-09-30-', '제주도 감귤체험 하면서 먹고 노는 명소', '며칠 전 가족들과 이색적인 추억을 쌓기 위해 제주도 감귤체험 예약하고... 제주도 감귤체험 및 펜션을 예약해서 이용해보기에도 괜찮아보이더라고요. 옆에는...'], ['sp_blog_7', '2021.11.17.', '2021-11-17-', '제주도 펜션 독채 제주 감성 숙소에서 힐링', '지난달 다녀온 제주여행은 편안하고 힐링이 되는 제주도 펜션에서 꿈같은 하루를... 제주도만의 정취가 가득한 돌담길을 따라 골목 안쪽으로 쭉 들어오니 그림같이 예쁜...'], ['sp_blog_8', '3일 전', '2021-12-07', '제주도 기념품 제주 튀메기~', '제주도 기념품 제주 튀메기~ 제주시 구좌읍 행원로1길 32-2(1층) ☎0507-1345-3974... 4일차가 되니 내일이면 집으로 가야하기에 제주도 기념품으로 뭐가 좋을까 살짝 고민하게...'], ['sp_blog_9', '2021.11.29.', '2021-11-29-', '제주 택시투어 알차게 즐긴 제주도 택시투어 가격', '그래서 지난번 제주도 여행 때는 제주 택시투어를 예약했는데요. 매번 가던 곳이 아니라 가격도 좋았지만 고객의 취향을 고려한 제주도 현지 택시기사님이 추천해준...'], ['sp_blog_10', '2021.10.10.', '2021-10-10-', '제주도 독채펜션 제주 조천 감성 숙소', \"제주도 독채펜션 제주 조천 감성 숙소 선선한 가을에 우리가 머문 제주도 독채펜션은 '신축'라고 해도 믿을 정도로 관리가 잘 된 숙소로 한적하여 코시국에 갈만한...\"], ['sp_blog_11', '2일 전', '2021-12-08', '제주 오설록 티뮤지엄과 제주도 여행 서귀포 가볼만한곳', '제주 오설록 티뮤지엄과 제주도 여행 서귀포 가볼만한곳 겨울 제주도 여행을 다녀오면서 바람만 불지 않으면 날씨가 춥지 않아 겨울에도 제주를 다녀오면 참 좋겠다...'], ['sp_blog_12', '5일 전', '2021-12-05', '제주 동백꽃 명소 시기 제주도 동백꽃 핫플레이스', '제주도 동백꽃 핫플레이스 4곳. 휴애리자연생활공원, 동백수목원, 동백포레스트, 마노르블랑 서귀포 동백 명소를 찾아봤어요. (2021년 11월 29~30일 상황) 지금 제주도는...'], ['sp_blog_13', '11시간 전', '2021-12-10', '제주 켄싱턴 리조트 서귀포 제주도 숙소 추천 위치', '제주 서귀포 켄싱턴 리조트 제주도 숙소 추천 위치 제주 서귀포시 이어도로 684 /064... 장소로 제주도 숙소 추천하고픈 곳이랍니다. 제주도 숙소 위치적으로 좋았던...'], ['sp_blog_14', '2021.11.30.', '2021-11-30-', '제주 더클리프, 제주도 핫플레이스 중문 가볼만한곳', '제주도 핫플레이스 중문 가볼만한곳으로 해질무렵 갔었는데 야경도 넘 좋았고 무엇보다 분위기 자체가 넘 신나고 재밌었다 ^^ 제주 더클리프, 제주도 핫플레이스 중문...'], ['sp_blog_15', '3일 전', '2021-12-07', '제주도 기념품 서귀포 바다 뷰 제스토리 제주 기념품샵', '제주도 기념품 서귀포 바다 제스토리 제주 기념품샵 겟~ 제주 올레 7코스에서... ~열씨미~ 제주 올레길 7코스는 제주도 서귀포 칠십리시공원에서 월평아왜낭목쉼터까지...'], ['sp_blog_16', '2021.10.26.', '2021-10-26-', '푸짐했던 제주도 맛집 모음', '얼마 전 친구와 함께 제주도민이 추천해 준 제주도 맛집에 다녀왔다. 푸짐한 밑반찬과 함께 정성 가득한 돌솥밥을 알차게 즐기고 온 곳이라 소개해 보려고 한다. 1....'], ['sp_blog_17', '2021.11.17.', '2021-11-17-', '제주도 승마체험 숲 속을 달렸던 뱅듸 제주 말타기', '지난 가을이 시작 될 무렵 다녀온 제주도 승마체험 게으름에 미루고 미루다... 해변가 또는 유명한 관광지에서 잠깐 타는 제주도 말타기 달리 이 곳 뱅듸승마클럽에서는...'], ['sp_blog_18', '4일 전', '2021-12-06', '낭만적인 제주도 애월 카페', '얼마 전 친구들과 함께 바다를 보러 갔다가 브런치를 즐길 겸 제주도 애월 카페에... 않아도 제주도 애월 카페에서 부족함 없이 보낼 수 있었지요. 푸른 정원에...'], ['sp_blog_19', '2021.11.12.', '2021-11-12-', '흠이없던 제주도 맛집 모음', '얼마전 친구들과 오랜만에 만나서 허기를 달래기위해 제주도 맛집에 방문했어요. 제주도 흑돼지가 생각날때마다 방문하고싶은 식당으로 가격대비 고기의 퀼리티가...'], ['sp_blog_20', '2021.10.17.', '2021-10-17-', '제주도 여행 노형수퍼마켙 포함 핫플 몇곳', '이달 초 친구들과 다녀온 제주도 여행은 노형수퍼마켙을 비롯해서 요즘 인기 있는 제주도 핫플 여러 곳 둘러보았습니다. 그중에서 오늘은 공항에서부터 시작된 첫날...'], ['sp_blog_21', '18시간 전', '2021-12-10', '제주 애월 펜션 제주도 숙박 드라마2015', '제주 애월 펜션 제주도 숙박 드라마2015 글&사진: 초록바다 최양훈 // 촬영일: 2021년 11월 29일 이번 제주도 여행은 빠알간 동백이 수놓는 아름다운 여행지와 단 한 번도...'], ['sp_blog_22', '6일 전', '2021-12-04', '제주도 택시대절 제주 콜밴 가성비 좋았던 여행', '해외여행을 못가게 되면서 대체여행지로 제주도가 뜬다는 이야기들도 있지만 꼭 그런 이유가 아니더라도 제주도의 매력은 보면 볼수록 더 다채로운 것 같습니다. 계절에...'], ['sp_blog_23', '2021.11.10.', '2021-11-10-', '제주 렌트카 이용한 제주도 렌트카 2박3일 여행코스', '제주 렌트카 이용한 제주도 렌트카 2박3일 여행코스 제주도 2박3일 여행코스로 푸른 바다를 즐길 수 있는 해안도로 위주로 다녔다. 드라이브 코스로도 좋고 아름다운...'], ['sp_blog_24', '2021.12.02.', '2021-12-02-', '12월 제주도 가볼만한곳 동백꽃 명소 군락지 겨울 제주 여행', '12월 제주도 가볼만한곳 동백꽃 명소 군락지 겨울 제주 여행 12월 제주도 여행은 동백꽃 보러 떠나야죠! 최근에 제주도 동백꽃을 보고 오면서 12월에 다녀오면 참...'], ['sp_blog_25', '2021.10.25.', '2021-10-25-', '제주도 여행 10월 사진 명소 쇠소깍 제주 이색체험 등', '제주도 여행 10월 사진 명소 쇠소깍 제주 이색체험 등 6곳. 놀거리 먹거리 가득한... 9월 마지막 주에서 10월로 넘어가는 즈음에 다녀왔던 제주도 여행. 아직 이야기를...'], ['sp_blog_26', '7일 전', '2021-12-03', '제주 동백꽃 핫플 제주도 동백꽃 명소 개화시기', '제주 동백꽃 핫플 제주도 동백꽃 명소 개화시기 제주도 동백꽃 개화 시기에 맞춰 4박 5일 일정으로 휴애리,동백포레스트, 마노르블랑, 제주동백수목원 등 가장 인기...'], ['sp_blog_27', '2021.11.11.', '2021-11-11-', '제주 관음사 제주도 사찰 가볼만한절', '제주도 사찰 가볼만한 절로도 유명한곳인데 그동안 한번 가봐야지~하고있다가... 관음사 제주도 사찰 가볼만한 절 글.사진/JINI 사찰 앞에 주차공간이 있어서 주차해놓고...'], ['sp_blog_28', '5일 전', '2021-12-05', '10월 제주도 여행 제주 보롬왓 표선 꽃구경', '10월 제주도 여행 제주 보롬왓 표선 꽃구경~제대로 힐링 제주도 표선이라고 쓰고 10월 사진으로~ 다녀온지 두 달이 된 10월 제주도 여행~~ 다녀온지 오래되어 기억은...'], ['sp_blog_29', '2021.11.25.', '2021-11-25-', '제주도 1박2일 여행코스 제주도 택시투어 제주 대절 가격', '제주도 1박2일 여행코스 제주도 택시투어 제주 대절 가격 글, 사진 : 그루터기 얼마 전 제주도 1박 2일 여행을 다녀왔다. 떠나기 전 제주도 택시투어 가격을 알아보니...'], ['sp_blog_30', '7일 전', '2021-12-03', '제주도 가볼만한곳 동쪽 풍경 멋졌던 제주 다랑쉬오름', '가을에도 겨울에도 떠나기 좋은 다양한 제주도 가볼만한곳 중에서도 항상 찾아가는... 올라가 제주도 동쪽 풍경 감상해도 좋지만 안내소가 멋있게 따로 마련이 되어 있어...']]\n"
          ]
        }
      ]
    },
    {
      "cell_type": "code",
      "metadata": {
        "id": "vjm3TzwCUFEU",
        "colab": {
          "base_uri": "https://localhost:8080/"
        },
        "outputId": "d6a098b7-3ac1-4501-9136-73717071887e"
      },
      "source": [
        "from datetime import datetime\n",
        "abc = datetime.today().strftime(\"%Y-%m-%d\")\n",
        "\n",
        "print(abc)\n",
        "\n",
        "\n"
      ],
      "execution_count": null,
      "outputs": [
        {
          "output_type": "stream",
          "name": "stdout",
          "text": [
            "2021-12-08\n"
          ]
        }
      ]
    },
    {
      "cell_type": "code",
      "source": [
        ""
      ],
      "metadata": {
        "colab": {
          "base_uri": "https://localhost:8080/"
        },
        "id": "WzA7tGlr9-rm",
        "outputId": "488e4d94-0d0a-4721-afd5-8f78d00a5511"
      },
      "execution_count": null,
      "outputs": [
        {
          "output_type": "stream",
          "name": "stdout",
          "text": [
            "2021-12-09\n"
          ]
        }
      ]
    },
    {
      "cell_type": "code",
      "source": [
        ""
      ],
      "metadata": {
        "id": "OlbJ1nf7-GCb"
      },
      "execution_count": null,
      "outputs": []
    }
  ]
}